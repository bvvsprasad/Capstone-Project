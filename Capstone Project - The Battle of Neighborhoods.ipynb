{
 "cells": [
  {
   "cell_type": "markdown",
   "metadata": {
    "collapsed": true
   },
   "source": [
    "# Capstone Project   "
   ]
  },
  {
   "cell_type": "markdown",
   "metadata": {},
   "source": [
    "## The Battle of Neighborhoods (Week 1)¶  "
   ]
  },
  {
   "cell_type": "markdown",
   "metadata": {},
   "source": [
    "### Dr. B.V.V.S. Prasad, Introduction to Data Sections"
   ]
  },
  {
   "cell_type": "code",
   "execution_count": 1,
   "metadata": {},
   "outputs": [
    {
     "name": "stdout",
     "output_type": "stream",
     "text": [
      "Solving environment: done\n",
      "\n",
      "## Package Plan ##\n",
      "\n",
      "  environment location: /opt/conda/envs/Python36\n",
      "\n",
      "  added / updated specs: \n",
      "    - folium=0.5.0\n",
      "\n",
      "\n",
      "The following packages will be downloaded:\n",
      "\n",
      "    package                    |            build\n",
      "    ---------------------------|-----------------\n",
      "    branca-0.4.0               |             py_0          26 KB  conda-forge\n",
      "    altair-4.1.0               |             py_1         614 KB  conda-forge\n",
      "    vincent-0.4.4              |             py_1          28 KB  conda-forge\n",
      "    folium-0.5.0               |             py_0          45 KB  conda-forge\n",
      "    ca-certificates-2020.4.5.1 |       hecc5488_0         146 KB  conda-forge\n",
      "    certifi-2020.4.5.1         |   py36h9f0ad1d_0         151 KB  conda-forge\n",
      "    openssl-1.1.1f             |       h516909a_0         2.1 MB  conda-forge\n",
      "    python_abi-3.6             |          1_cp36m           4 KB  conda-forge\n",
      "    ------------------------------------------------------------\n",
      "                                           Total:         3.1 MB\n",
      "\n",
      "The following NEW packages will be INSTALLED:\n",
      "\n",
      "    altair:          4.1.0-py_1        conda-forge\n",
      "    branca:          0.4.0-py_0        conda-forge\n",
      "    folium:          0.5.0-py_0        conda-forge\n",
      "    python_abi:      3.6-1_cp36m       conda-forge\n",
      "    vincent:         0.4.4-py_1        conda-forge\n",
      "\n",
      "The following packages will be UPDATED:\n",
      "\n",
      "    ca-certificates: 2020.1.1-0                    --> 2020.4.5.1-hecc5488_0     conda-forge\n",
      "    certifi:         2020.4.5.1-py36_0             --> 2020.4.5.1-py36h9f0ad1d_0 conda-forge\n",
      "    openssl:         1.1.1f-h7b6447c_0             --> 1.1.1f-h516909a_0         conda-forge\n",
      "\n",
      "\n",
      "Downloading and Extracting Packages\n",
      "branca-0.4.0         | 26 KB     | ##################################### | 100% \n",
      "altair-4.1.0         | 614 KB    | ##################################### | 100% \n",
      "vincent-0.4.4        | 28 KB     | ##################################### | 100% \n",
      "folium-0.5.0         | 45 KB     | ##################################### | 100% \n",
      "ca-certificates-2020 | 146 KB    | ##################################### | 100% \n",
      "certifi-2020.4.5.1   | 151 KB    | ##################################### | 100% \n",
      "openssl-1.1.1f       | 2.1 MB    | ##################################### | 100% \n",
      "python_abi-3.6       | 4 KB      | ##################################### | 100% \n",
      "Preparing transaction: done\n",
      "Verifying transaction: done\n",
      "Executing transaction: done\n",
      "Libraries imported.\n"
     ]
    }
   ],
   "source": [
    "import numpy as np # library to handle data in a vectorized manner\n",
    "import time\n",
    "import pandas as pd # library for data analsysis\n",
    "pd.set_option('display.max_columns', None)\n",
    "pd.set_option('display.max_rows', None)\n",
    "\n",
    "import json # library to handle JSON files\n",
    "import requests # library to handle requests\n",
    "from pandas.io.json import json_normalize # tranform JSON file into a pandas dataframe\n",
    "\n",
    "from geopy.geocoders import Nominatim # convert an address into latitude and longitude values\n",
    "!conda install -c conda-forge folium=0.5.0 --yes # uncomment this line if you haven't completed the Foursquare API lab\n",
    "import folium # map rendering library\n",
    "\n",
    "print('Libraries imported.')"
   ]
  },
  {
   "cell_type": "markdown",
   "metadata": {},
   "source": [
    "### Coursera Capstone - REPORT CONTENT  "
   ]
  },
  {
   "cell_type": "markdown",
   "metadata": {},
   "source": [
    "<ol>\n",
    "    <li> Introduction Section : ⁃ Discussion of the business problem and the interested audience in this project. </li>\n",
    "    <li> Data Section: ⁃ Description of the data that will be used to solve the problem and the sources. </li>\n",
    "    <li> Methodology section ⁃ Discussion and description of exploratory data analysis carried out, any inferential statistical testing performed, and if any machine learnings were used establishing the strategy and purposes.</li>\n",
    "    <li> Results section ⁃ Discussion of the results. </li>\n",
    "    <li> Discussion section ⁃ Elaboration and discussion on any observations noted and any recommendations suggested based on the results. </li>\n",
    "    <li>Conclusion section ⁃ Report Conclusion.</li>\n",
    "</ol>"
   ]
  },
  {
   "cell_type": "code",
   "execution_count": 4,
   "metadata": {},
   "outputs": [],
   "source": [
    "# A description of the problem and a discussion of the background. (15 marks)"
   ]
  },
  {
   "cell_type": "markdown",
   "metadata": {},
   "source": [
    "# 1. Introduction Section :"
   ]
  },
  {
   "cell_type": "markdown",
   "metadata": {},
   "source": [
    "## Discussion of the business problem and the audience who would be interested in this project."
   ]
  },
  {
   "cell_type": "markdown",
   "metadata": {},
   "source": [
    "### Description of the Problem and Background"
   ]
  },
  {
   "cell_type": "markdown",
   "metadata": {},
   "source": [
    "### Scenario:  "
   ]
  },
  {
   "cell_type": "markdown",
   "metadata": {},
   "source": [
    "I am a business analyst residing in Southbank Melbourne. I currently live within walking distance to Melbourne CBD and Flinders station and I enjoy many amenities and venues in the area, such as various international cuisine restaurants, cafes, shopping malls and entertainment. I currently work in a bank within walking distance to my home. However, I have been offered an opportunity to work for a leading consulting firm in Manhattan, NY. They will leverage my BA skills and newly acquired data science to help their business analytics team. I am unsure about taking the role and would like to use this opportunity to dedicate my final coursera project into investigating advantages and disadvatanges of taking this offer.The key question is : How much do I need to spend in comparison to Melbourne to find an apartment with my girl friend which is as convenient and affordable as mine in Melbourne, considering the salary difference. I can use available real estate websites and Google but the idea is to use and apply myself the learned tools during the course. In order to make a comparison and evaluation of the rental options in Manhattan NY, I must set some basis, therefore the apartment in Manhattan must meet the following demands:"
   ]
  },
  {
   "cell_type": "markdown",
   "metadata": {},
   "source": [
    "<ul>\n",
    "    <li>Apartment must be 2 or 3 bedrooms</li>\n",
    "    <li>Desired location is near a metro station in the Manhattan area and within (1.5 km) radius or less than 30 minutes walking distance.</li>\n",
    "    <li> Price of rent not exceed $6,000 per month. </li>\n",
    "    <li> Top amenities in the selected neighborhood shall be similar to current residence</li>\n",
    "    <li> Desirable to have venues such as coffee shops, Asian and Japanese/Korean Restaurants, gym and Grocery stores nearby.</li>\n",
    "    <li> As a reference, I have included a map of venues near current residence in Melbourne.</li>\n",
    "</ul>"
   ]
  },
  {
   "cell_type": "markdown",
   "metadata": {},
   "source": [
    "### Business Problem:"
   ]
  },
  {
   "cell_type": "markdown",
   "metadata": {},
   "source": [
    "The challenge is to find a suitable apartment for rent in Manhattan NY that complies with the demands on location, price and venues. The data required to resolve this challenge is described in section 2 below."
   ]
  },
  {
   "cell_type": "markdown",
   "metadata": {},
   "source": [
    "### Interested Audience:"
   ]
  },
  {
   "cell_type": "markdown",
   "metadata": {},
   "source": [
    "I believe this is a relevant challenge with valid questions for anyone moving to other large city in the US, EU or Asia. The same methodology can be applied in accordance to demands as applicable. This case is also applicable for anyone interested in exploring starting or locating a new business in any city. Lastly, it can also serve as a good practical exercise to develop Data Science skills."
   ]
  },
  {
   "cell_type": "code",
   "execution_count": 5,
   "metadata": {},
   "outputs": [],
   "source": [
    "# A description of the data and how it will be used to solve the problem. (15 marks)"
   ]
  },
  {
   "cell_type": "markdown",
   "metadata": {},
   "source": [
    "## 2. Data Section:  "
   ]
  },
  {
   "cell_type": "markdown",
   "metadata": {},
   "source": [
    "### Description of the data and its sources that will be used to solve the problem"
   ]
  },
  {
   "cell_type": "markdown",
   "metadata": {},
   "source": [
    "### Description of the Data:"
   ]
  },
  {
   "cell_type": "markdown",
   "metadata": {},
   "source": [
    "\n",
    "\n",
    "The following data is required to answer the issues of the problem:\n",
    "<ul>\n",
    "    <li>List of Boroughs and neighborhoods of Manhattan with their geodata (latitude and longitude)</li>\n",
    "    <li>List of Subway metro stations in Manhattan with their relative location</li>\n",
    "    <li>List of apartments for rent in Manhattan area with their addresses and price</li>\n",
    "    <li>Preferably, a list of apartments for rent with additional information, such as price, address, area, # of beds</li>\n",
    "    <li>Venues for each Manhattan neighborhoods ( that can be clustered)</li>\n",
    "    <li>Venues for subway metro stations</li>\n",
    "</ul>\n",
    "\n"
   ]
  },
  {
   "cell_type": "markdown",
   "metadata": {},
   "source": [
    "### How the data will be used to solve the problem"
   ]
  },
  {
   "cell_type": "markdown",
   "metadata": {},
   "source": [
    "The data will be used as follows:\n",
    "<ul>\n",
    "    <li>Use Foursquare and geopy data to map top 10 venues for all Manhattan neighborhoods and clustered in groups ( as per Course LAB)</li>\n",
    "    <li>Use foursquare and geopy data to map the location of subway metro stations , separately and on top of the above clustered map in order to be able to identify the venues and amenities near each metro station, or explore each subway location separately</li>\n",
    "    <li>Use Foursquare and geopy data to map the location of rental places, in some form, linked to the subway locations.</li>\n",
    "    <li>create a map that depicts, for instance, the average rental price per square ft, around a radious of (1.5 km) around each subway station - or a similar metric. I will be able to quickly point to the popups to know the relative price per subway area.</li>\n",
    "    <li>Addresses from rental locations will be converted to geodata( lat, long) using Geopy-distance and Nominatim.</li>\n",
    "    <li>Data will be searched in open data sources if available, from real estate sites if open to reading, libraries or other government agencies such as Metro New York MTA, etc.</li>\n",
    "</ul>"
   ]
  },
  {
   "cell_type": "markdown",
   "metadata": {},
   "source": [
    "The procesing of these DATA will allow to answer the key questions to make a decision:\n",
    "<ul>\n",
    "    <li>what is the cost of rent (per square ft) around a mile radius from each subway metro station?</li>\n",
    "    <li>what is the area of Manhattan with best rental pricing that meets criteria established?</li>\n",
    "    <li>What is the distance from work place ( Park Ave and 53 rd St) and the tentative future home?</li>\n",
    "    <li>What are the venues of the two best places to live? How the prices compare?</li>\n",
    "    <li>How venues distribute among Manhattan neighborhoods and around metro stations?</li>\n",
    "    <li>Are there tradeoffs between size and price and location?</li>\n",
    "    <li>Any other interesting statistical data findings of the real estate and overall data.</li>\n",
    "</ul>"
   ]
  },
  {
   "cell_type": "markdown",
   "metadata": {},
   "source": [
    "## Reference of venues around current residence in Melbourne for comparison to Manhattan place"
   ]
  },
  {
   "cell_type": "code",
   "execution_count": 7,
   "metadata": {},
   "outputs": [
    {
     "name": "stderr",
     "output_type": "stream",
     "text": [
      "/opt/conda/envs/Python36/lib/python3.6/site-packages/ipykernel/__main__.py:4: DeprecationWarning: Using Nominatim with the default \"geopy/1.18.1\" `user_agent` is strongly discouraged, as it violates Nominatim's ToS https://operations.osmfoundation.org/policies/nominatim/ and may possibly cause 403 and 429 HTTP errors. Please specify a custom `user_agent` with `Nominatim(user_agent=\"my-application\")` or by overriding the default `user_agent`: `geopy.geocoders.options.default_user_agent = \"my-application\"`. In geopy 2.0 this will become an exception.\n"
     ]
    },
    {
     "name": "stdout",
     "output_type": "stream",
     "text": [
      "The geograpical coordinate of Melbourne home are -37.8210248, 144.965629.\n"
     ]
    }
   ],
   "source": [
    "# Riverside Quay Southbank (Riverside Quay) Southbank VIC 3006 Australia\n",
    "address = 'Riverside Quay, Southbank'\n",
    "\n",
    "geolocator = Nominatim()\n",
    "location = geolocator.geocode(address)\n",
    "latitude = location.latitude\n",
    "longitude = location.longitude\n",
    "print('The geograpical coordinate of Melbourne home are {}, {}.'.format(latitude, longitude))"
   ]
  },
  {
   "cell_type": "code",
   "execution_count": 8,
   "metadata": {},
   "outputs": [],
   "source": [
    "neighborhood_latitude=-37.8212898\n",
    "neighborhood_longitude=144.9644173"
   ]
  },
  {
   "cell_type": "code",
   "execution_count": 9,
   "metadata": {},
   "outputs": [
    {
     "name": "stdout",
     "output_type": "stream",
     "text": [
      "Your credentails:\n",
      "CLIENT_ID: CETGLD3C3BHQLWQYAVNIGTTHRNOCSMO3GDQ1KYN3V0RPQZVA\n",
      "CLIENT_SECRET:X5CYNQD03LMAYUQNXYVHWUSI3D24LHWL1MN12OVWN5HKJP3K\n"
     ]
    }
   ],
   "source": [
    "IMIT = 100 # limit of number of venues returned by Foursquare API\n",
    "radius = 500 # define radius\n",
    "CLIENT_ID = 'CETGLD3C3BHQLWQYAVNIGTTHRNOCSMO3GDQ1KYN3V0RPQZVA' # My Foursquare ID\n",
    "CLIENT_SECRET = 'X5CYNQD03LMAYUQNXYVHWUSI3D24LHWL1MN12OVWN5HKJP3K' # My Foursquare Secret\n",
    "VERSION = '20180604'\n",
    "print('Your credentails:')\n",
    "print('CLIENT_ID: ' + CLIENT_ID)\n",
    "print('CLIENT_SECRET:' + CLIENT_SECRET)"
   ]
  },
  {
   "cell_type": "code",
   "execution_count": 10,
   "metadata": {},
   "outputs": [
    {
     "data": {
      "text/plain": [
       "'https://api.foursquare.com/v2/venues/explore?&client_id=CETGLD3C3BHQLWQYAVNIGTTHRNOCSMO3GDQ1KYN3V0RPQZVA&client_secret=X5CYNQD03LMAYUQNXYVHWUSI3D24LHWL1MN12OVWN5HKJP3K&v=20180604&ll=-37.8212898,144.9644173&radius=500&limit=100'"
      ]
     },
     "execution_count": 10,
     "metadata": {},
     "output_type": "execute_result"
    }
   ],
   "source": [
    "url= 'https://api.foursquare.com/v2/venues/explore?&client_id=CETGLD3C3BHQLWQYAVNIGTTHRNOCSMO3GDQ1KYN3V0RPQZVA&client_secret=X5CYNQD03LMAYUQNXYVHWUSI3D24LHWL1MN12OVWN5HKJP3K&v=20180604&ll=-37.8212898,144.9644173&radius=500&limit=100'\n",
    "url # display URL"
   ]
  },
  {
   "cell_type": "code",
   "execution_count": 11,
   "metadata": {},
   "outputs": [],
   "source": [
    "results = requests.get(url).json()\n",
    "#results"
   ]
  },
  {
   "cell_type": "markdown",
   "metadata": {},
   "source": [
    "Function that extracts the category of the venues near Southbank - borrow from the Foursquare lab."
   ]
  },
  {
   "cell_type": "code",
   "execution_count": 13,
   "metadata": {},
   "outputs": [],
   "source": [
    "# function that extracts the category of the venue\n",
    "def get_category_type(row):\n",
    "    try:\n",
    "        categories_list = row['categories']\n",
    "    except:\n",
    "        categories_list = row['venue.categories']\n",
    "        \n",
    "    if len(categories_list) == 0:\n",
    "        return None\n",
    "    else:\n",
    "        return categories_list[0]['name']"
   ]
  },
  {
   "cell_type": "code",
   "execution_count": 14,
   "metadata": {},
   "outputs": [
    {
     "data": {
      "text/html": [
       "<div>\n",
       "<style scoped>\n",
       "    .dataframe tbody tr th:only-of-type {\n",
       "        vertical-align: middle;\n",
       "    }\n",
       "\n",
       "    .dataframe tbody tr th {\n",
       "        vertical-align: top;\n",
       "    }\n",
       "\n",
       "    .dataframe thead th {\n",
       "        text-align: right;\n",
       "    }\n",
       "</style>\n",
       "<table border=\"1\" class=\"dataframe\">\n",
       "  <thead>\n",
       "    <tr style=\"text-align: right;\">\n",
       "      <th></th>\n",
       "      <th>name</th>\n",
       "      <th>categories</th>\n",
       "      <th>lat</th>\n",
       "      <th>lng</th>\n",
       "    </tr>\n",
       "  </thead>\n",
       "  <tbody>\n",
       "    <tr>\n",
       "      <th>0</th>\n",
       "      <td>Southbank Promenade</td>\n",
       "      <td>Pedestrian Plaza</td>\n",
       "      <td>-37.819959</td>\n",
       "      <td>144.965467</td>\n",
       "    </tr>\n",
       "    <tr>\n",
       "      <th>1</th>\n",
       "      <td>Ponyfish Island</td>\n",
       "      <td>Bar</td>\n",
       "      <td>-37.819918</td>\n",
       "      <td>144.965021</td>\n",
       "    </tr>\n",
       "    <tr>\n",
       "      <th>2</th>\n",
       "      <td>Yarra River</td>\n",
       "      <td>River</td>\n",
       "      <td>-37.819684</td>\n",
       "      <td>144.965115</td>\n",
       "    </tr>\n",
       "    <tr>\n",
       "      <th>3</th>\n",
       "      <td>The Langham</td>\n",
       "      <td>Hotel</td>\n",
       "      <td>-37.820370</td>\n",
       "      <td>144.965710</td>\n",
       "    </tr>\n",
       "    <tr>\n",
       "      <th>4</th>\n",
       "      <td>Broad Bean Organic Grocer</td>\n",
       "      <td>Grocery Store</td>\n",
       "      <td>-37.822588</td>\n",
       "      <td>144.966912</td>\n",
       "    </tr>\n",
       "    <tr>\n",
       "      <th>5</th>\n",
       "      <td>Pure South</td>\n",
       "      <td>Australian Restaurant</td>\n",
       "      <td>-37.820232</td>\n",
       "      <td>144.965259</td>\n",
       "    </tr>\n",
       "    <tr>\n",
       "      <th>6</th>\n",
       "      <td>Arbory Bar &amp; Eatery</td>\n",
       "      <td>Bar</td>\n",
       "      <td>-37.819020</td>\n",
       "      <td>144.966004</td>\n",
       "    </tr>\n",
       "    <tr>\n",
       "      <th>7</th>\n",
       "      <td>Arbory Afloat</td>\n",
       "      <td>Bar</td>\n",
       "      <td>-37.819430</td>\n",
       "      <td>144.966338</td>\n",
       "    </tr>\n",
       "    <tr>\n",
       "      <th>8</th>\n",
       "      <td>Candela Nuevo</td>\n",
       "      <td>Cocktail Bar</td>\n",
       "      <td>-37.818614</td>\n",
       "      <td>144.962604</td>\n",
       "    </tr>\n",
       "    <tr>\n",
       "      <th>9</th>\n",
       "      <td>Crown Promenade</td>\n",
       "      <td>Plaza</td>\n",
       "      <td>-37.821669</td>\n",
       "      <td>144.960354</td>\n",
       "    </tr>\n",
       "  </tbody>\n",
       "</table>\n",
       "</div>"
      ],
      "text/plain": [
       "                        name             categories        lat         lng\n",
       "0        Southbank Promenade       Pedestrian Plaza -37.819959  144.965467\n",
       "1            Ponyfish Island                    Bar -37.819918  144.965021\n",
       "2                Yarra River                  River -37.819684  144.965115\n",
       "3                The Langham                  Hotel -37.820370  144.965710\n",
       "4  Broad Bean Organic Grocer          Grocery Store -37.822588  144.966912\n",
       "5                 Pure South  Australian Restaurant -37.820232  144.965259\n",
       "6        Arbory Bar & Eatery                    Bar -37.819020  144.966004\n",
       "7              Arbory Afloat                    Bar -37.819430  144.966338\n",
       "8              Candela Nuevo           Cocktail Bar -37.818614  144.962604\n",
       "9            Crown Promenade                  Plaza -37.821669  144.960354"
      ]
     },
     "execution_count": 14,
     "metadata": {},
     "output_type": "execute_result"
    }
   ],
   "source": [
    "venues = results['response']['groups'][0]['items']\n",
    "    \n",
    "SBnearby_venues = json_normalize(venues) # flatten JSON\n",
    "\n",
    "# filter columns\n",
    "filtered_columns = ['venue.name', 'venue.categories', 'venue.location.lat', 'venue.location.lng']\n",
    "SBnearby_venues =SBnearby_venues.loc[:, filtered_columns]\n",
    "\n",
    "# filter the category for each row\n",
    "SBnearby_venues['venue.categories'] = SBnearby_venues.apply(get_category_type, axis=1)\n",
    "\n",
    "# clean columns\n",
    "SBnearby_venues.columns = [col.split(\".\")[-1] for col in SBnearby_venues.columns]\n",
    "\n",
    "SBnearby_venues.head(10)"
   ]
  },
  {
   "cell_type": "markdown",
   "metadata": {},
   "source": [
    "### Map of Southbank in Melbourne with venues near residence place - for reference"
   ]
  },
  {
   "cell_type": "code",
   "execution_count": 15,
   "metadata": {},
   "outputs": [
    {
     "data": {
      "text/html": [
       "<div style=\"width:100%;\"><div style=\"position:relative;width:100%;height:0;padding-bottom:60%;\"><iframe src=\"about:blank\" style=\"position:absolute;width:100%;height:100%;left:0;top:0;border:none !important;\" data-html=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 onload=\"this.contentDocument.open();this.contentDocument.write(atob(this.getAttribute('data-html')));this.contentDocument.close();\" allowfullscreen webkitallowfullscreen mozallowfullscreen></iframe></div></div>"
      ],
      "text/plain": [
       "<folium.folium.Map at 0x7f1e4dce2d68>"
      ]
     },
     "execution_count": 15,
     "metadata": {},
     "output_type": "execute_result"
    }
   ],
   "source": [
    "# create map of Southbank Melbourne using latitude and longitude values\n",
    "map_sb = folium.Map(location=[latitude, longitude], zoom_start=20)\n",
    "\n",
    "# add markers to map\n",
    "for lat, lng, label in zip(SBnearby_venues['lat'], SBnearby_venues['lng'], SBnearby_venues['name']):\n",
    "    label = folium.Popup(label, parse_html=True)\n",
    "    folium.RegularPolygonMarker(\n",
    "        [lat, lng],\n",
    "        number_of_sides=4,\n",
    "        radius=10,\n",
    "        popup=label,\n",
    "        color='blue',\n",
    "        fill_color='#0f0f0f',\n",
    "        fill_opacity=0.7,\n",
    "    ).add_to(map_sb)  \n",
    "    \n",
    "map_sb"
   ]
  },
  {
   "cell_type": "code",
   "execution_count": null,
   "metadata": {},
   "outputs": [],
   "source": []
  }
 ],
 "metadata": {
  "kernelspec": {
   "display_name": "Python 3.6",
   "language": "python",
   "name": "python3"
  },
  "language_info": {
   "codemirror_mode": {
    "name": "ipython",
    "version": 3
   },
   "file_extension": ".py",
   "mimetype": "text/x-python",
   "name": "python",
   "nbconvert_exporter": "python",
   "pygments_lexer": "ipython3",
   "version": "3.6.9"
  }
 },
 "nbformat": 4,
 "nbformat_minor": 1
}
